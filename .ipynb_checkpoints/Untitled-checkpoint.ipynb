{
 "cells": [
  {
   "cell_type": "code",
   "execution_count": null,
   "metadata": {},
   "outputs": [],
   "source": [
    "api = twitter.Api(consumer_key='2qhjD55Se9NGKRTBuZyb6Ki0Z',\n",
    "                  consumer_secret= 'KooojZyWYxp7iu6gerfpwyJB1xbOVZHxRXYcO8L7VsF0CqQPAt',\n",
    "                  access_token_key='352599159-PO9igRuIq6bWZgYcLU9AAeONtQarHyswa9SsW3hr',\n",
    "                  access_token_secret='qhPSxUDrBIq8AQu4nTeiXBlkC5rthIlFcqGOYfOEvkGrX')"
   ]
  }
 ],
 "metadata": {
  "kernelspec": {
   "display_name": "Python 3",
   "language": "python",
   "name": "python3"
  },
  "language_info": {
   "codemirror_mode": {
    "name": "ipython",
    "version": 3
   },
   "file_extension": ".py",
   "mimetype": "text/x-python",
   "name": "python",
   "nbconvert_exporter": "python",
   "pygments_lexer": "ipython3",
   "version": "3.6.6"
  }
 },
 "nbformat": 4,
 "nbformat_minor": 2
}
